{
 "cells": [
  {
   "cell_type": "markdown",
   "id": "0239a5f7",
   "metadata": {},
   "source": [
    "## used this notebook to test which out of similar summaries or \"soup\" is produces better suggestions"
   ]
  },
  {
   "cell_type": "code",
   "execution_count": 1,
   "id": "926e726b",
   "metadata": {},
   "outputs": [],
   "source": [
    "import pandas as pd\n",
    "from sklearn.feature_extraction.text import TfidfVectorizer, CountVectorizer\n",
    "from sklearn.metrics.pairwise import linear_kernel, cosine_similarity"
   ]
  },
  {
   "cell_type": "code",
   "execution_count": 2,
   "id": "b37c350e",
   "metadata": {},
   "outputs": [],
   "source": [
    "movies = pd.read_csv(\"re-movies.csv\")"
   ]
  },
  {
   "cell_type": "code",
   "execution_count": 3,
   "id": "4b8d10df",
   "metadata": {
    "scrolled": false
   },
   "outputs": [
    {
     "data": {
      "text/html": [
       "<div>\n",
       "<style scoped>\n",
       "    .dataframe tbody tr th:only-of-type {\n",
       "        vertical-align: middle;\n",
       "    }\n",
       "\n",
       "    .dataframe tbody tr th {\n",
       "        vertical-align: top;\n",
       "    }\n",
       "\n",
       "    .dataframe thead th {\n",
       "        text-align: right;\n",
       "    }\n",
       "</style>\n",
       "<table border=\"1\" class=\"dataframe\">\n",
       "  <thead>\n",
       "    <tr style=\"text-align: right;\">\n",
       "      <th></th>\n",
       "      <th>Unnamed: 0</th>\n",
       "      <th>index</th>\n",
       "      <th>id</th>\n",
       "      <th>title</th>\n",
       "      <th>genres</th>\n",
       "      <th>original_language</th>\n",
       "      <th>overview</th>\n",
       "      <th>popularity</th>\n",
       "      <th>production_companies</th>\n",
       "      <th>vote_average</th>\n",
       "      <th>vote_count</th>\n",
       "      <th>credits</th>\n",
       "      <th>keywords</th>\n",
       "      <th>poster_path</th>\n",
       "      <th>recommendations</th>\n",
       "      <th>cast</th>\n",
       "      <th>soup</th>\n",
       "    </tr>\n",
       "  </thead>\n",
       "  <tbody>\n",
       "    <tr>\n",
       "      <th>0</th>\n",
       "      <td>0</td>\n",
       "      <td>0</td>\n",
       "      <td>631842</td>\n",
       "      <td>Knock at the Cabin</td>\n",
       "      <td>['Horror', 'Mystery', 'Thriller']</td>\n",
       "      <td>en</td>\n",
       "      <td>While vacationing at a remote cabin a young gi...</td>\n",
       "      <td>3422.537</td>\n",
       "      <td>Blinding Edge Pictures-Universal Pictures-Film...</td>\n",
       "      <td>6.457</td>\n",
       "      <td>888.0</td>\n",
       "      <td>Dave Bautista-Jonathan Groff-Ben Aldridge-Kris...</td>\n",
       "      <td>['basedonnovelorbook', 'sacrifice', 'cabin', '...</td>\n",
       "      <td>/dm06L9pxDOL9jNSK4Cb6y139rrG.jpg</td>\n",
       "      <td>1058949-646389-772515-505642-143970-667216-104...</td>\n",
       "      <td>['davebautista', 'jonathangroff', 'benaldridge...</td>\n",
       "      <td>basedonnovelorbook sacrifice cabin faith endof...</td>\n",
       "    </tr>\n",
       "    <tr>\n",
       "      <th>1</th>\n",
       "      <td>1</td>\n",
       "      <td>1</td>\n",
       "      <td>646389</td>\n",
       "      <td>Plane</td>\n",
       "      <td>['Action', 'Adventure', 'Thriller']</td>\n",
       "      <td>en</td>\n",
       "      <td>After a heroic job of successfully landing his...</td>\n",
       "      <td>2618.646</td>\n",
       "      <td>MadRiver Pictures-Di Bonaventura Pictures-G-BA...</td>\n",
       "      <td>6.901</td>\n",
       "      <td>785.0</td>\n",
       "      <td>Gerard Butler-Mike Colter-Yoson An-Tony Goldwy...</td>\n",
       "      <td>['pilot', 'airplane', 'philippines', 'heldhost...</td>\n",
       "      <td>/qi9r5xBgcc9KTxlOLjssEbDgO0J.jpg</td>\n",
       "      <td>505642-758769-864692-631842-1058949-925943-758...</td>\n",
       "      <td>['gerardbutler', 'mikecolter', 'yosonan', 'ton...</td>\n",
       "      <td>pilot airplane philippines heldhostage planecr...</td>\n",
       "    </tr>\n",
       "    <tr>\n",
       "      <th>2</th>\n",
       "      <td>2</td>\n",
       "      <td>2</td>\n",
       "      <td>505642</td>\n",
       "      <td>Black Panther: Wakanda Forever</td>\n",
       "      <td>['Action', 'Adventure', 'Science Fiction']</td>\n",
       "      <td>en</td>\n",
       "      <td>Queen Ramonda Shuri M’Baku Okoye and the Dora ...</td>\n",
       "      <td>2525.408</td>\n",
       "      <td>Marvel Studios</td>\n",
       "      <td>7.338</td>\n",
       "      <td>3922.0</td>\n",
       "      <td>Letitia Wright-Lupita Nyong'o-Danai Gurira-Win...</td>\n",
       "      <td>['lossoflovedone', 'hero', 'sequel', 'superher...</td>\n",
       "      <td>/sv1xJUazXeYqALzczSZ3O6nkH75.jpg</td>\n",
       "      <td>436270-829280-76600-56969-312634-1037858-238-5...</td>\n",
       "      <td>['letitiawright', \"lupitanyong'o\", 'danaigurir...</td>\n",
       "      <td>lossoflovedone hero sequel superhero basedonco...</td>\n",
       "    </tr>\n",
       "    <tr>\n",
       "      <th>3</th>\n",
       "      <td>3</td>\n",
       "      <td>4</td>\n",
       "      <td>315162</td>\n",
       "      <td>Puss in Boots: The Last Wish</td>\n",
       "      <td>['Animation', 'Adventure', 'Comedy', 'Family']</td>\n",
       "      <td>en</td>\n",
       "      <td>Puss in Boots discovers that his passion for a...</td>\n",
       "      <td>2078.280</td>\n",
       "      <td>DreamWorks Animation-Universal Pictures</td>\n",
       "      <td>8.363</td>\n",
       "      <td>4671.0</td>\n",
       "      <td>Antonio Banderas-Salma Hayek-Harvey Guillén-Wa...</td>\n",
       "      <td>['fairytale', 'talkingdog', 'spinoff', 'afterc...</td>\n",
       "      <td>/kuf6dutpsT0vSVehic3EZIqkOBt.jpg</td>\n",
       "      <td>1033456-1011679-505642-1058949-100088-536554-1...</td>\n",
       "      <td>['antoniobanderas', 'salmahayek', 'harveyguill...</td>\n",
       "      <td>fairytale talkingdog spinoff aftercreditssting...</td>\n",
       "    </tr>\n",
       "    <tr>\n",
       "      <th>4</th>\n",
       "      <td>4</td>\n",
       "      <td>7</td>\n",
       "      <td>937278</td>\n",
       "      <td>A Man Called Otto</td>\n",
       "      <td>['Comedy', 'Drama']</td>\n",
       "      <td>en</td>\n",
       "      <td>When a lively young family moves in next door ...</td>\n",
       "      <td>1545.382</td>\n",
       "      <td>Playtone-SF Studios-2DUX²-Stage 6 Films-Artist...</td>\n",
       "      <td>7.811</td>\n",
       "      <td>540.0</td>\n",
       "      <td>Tom Hanks-Mariana Treviño-Rachel Keller-Manuel...</td>\n",
       "      <td>['basedonnovelorbook', 'suicideattempt', 'rema...</td>\n",
       "      <td>/130H1gap9lFfiTF9iDrqNIkFvC9.jpg</td>\n",
       "      <td>82856-100088-906221-18123-10431-1077280-587092...</td>\n",
       "      <td>['tomhanks', 'marianatreviño', 'rachelkeller',...</td>\n",
       "      <td>basedonnovelorbook suicideattempt remake misca...</td>\n",
       "    </tr>\n",
       "  </tbody>\n",
       "</table>\n",
       "</div>"
      ],
      "text/plain": [
       "   Unnamed: 0  index      id                           title  \\\n",
       "0           0      0  631842              Knock at the Cabin   \n",
       "1           1      1  646389                           Plane   \n",
       "2           2      2  505642  Black Panther: Wakanda Forever   \n",
       "3           3      4  315162    Puss in Boots: The Last Wish   \n",
       "4           4      7  937278               A Man Called Otto   \n",
       "\n",
       "                                           genres original_language  \\\n",
       "0               ['Horror', 'Mystery', 'Thriller']                en   \n",
       "1             ['Action', 'Adventure', 'Thriller']                en   \n",
       "2      ['Action', 'Adventure', 'Science Fiction']                en   \n",
       "3  ['Animation', 'Adventure', 'Comedy', 'Family']                en   \n",
       "4                             ['Comedy', 'Drama']                en   \n",
       "\n",
       "                                            overview  popularity  \\\n",
       "0  While vacationing at a remote cabin a young gi...    3422.537   \n",
       "1  After a heroic job of successfully landing his...    2618.646   \n",
       "2  Queen Ramonda Shuri M’Baku Okoye and the Dora ...    2525.408   \n",
       "3  Puss in Boots discovers that his passion for a...    2078.280   \n",
       "4  When a lively young family moves in next door ...    1545.382   \n",
       "\n",
       "                                production_companies  vote_average  \\\n",
       "0  Blinding Edge Pictures-Universal Pictures-Film...         6.457   \n",
       "1  MadRiver Pictures-Di Bonaventura Pictures-G-BA...         6.901   \n",
       "2                                     Marvel Studios         7.338   \n",
       "3            DreamWorks Animation-Universal Pictures         8.363   \n",
       "4  Playtone-SF Studios-2DUX²-Stage 6 Films-Artist...         7.811   \n",
       "\n",
       "   vote_count                                            credits  \\\n",
       "0       888.0  Dave Bautista-Jonathan Groff-Ben Aldridge-Kris...   \n",
       "1       785.0  Gerard Butler-Mike Colter-Yoson An-Tony Goldwy...   \n",
       "2      3922.0  Letitia Wright-Lupita Nyong'o-Danai Gurira-Win...   \n",
       "3      4671.0  Antonio Banderas-Salma Hayek-Harvey Guillén-Wa...   \n",
       "4       540.0  Tom Hanks-Mariana Treviño-Rachel Keller-Manuel...   \n",
       "\n",
       "                                            keywords  \\\n",
       "0  ['basedonnovelorbook', 'sacrifice', 'cabin', '...   \n",
       "1  ['pilot', 'airplane', 'philippines', 'heldhost...   \n",
       "2  ['lossoflovedone', 'hero', 'sequel', 'superher...   \n",
       "3  ['fairytale', 'talkingdog', 'spinoff', 'afterc...   \n",
       "4  ['basedonnovelorbook', 'suicideattempt', 'rema...   \n",
       "\n",
       "                        poster_path  \\\n",
       "0  /dm06L9pxDOL9jNSK4Cb6y139rrG.jpg   \n",
       "1  /qi9r5xBgcc9KTxlOLjssEbDgO0J.jpg   \n",
       "2  /sv1xJUazXeYqALzczSZ3O6nkH75.jpg   \n",
       "3  /kuf6dutpsT0vSVehic3EZIqkOBt.jpg   \n",
       "4  /130H1gap9lFfiTF9iDrqNIkFvC9.jpg   \n",
       "\n",
       "                                     recommendations  \\\n",
       "0  1058949-646389-772515-505642-143970-667216-104...   \n",
       "1  505642-758769-864692-631842-1058949-925943-758...   \n",
       "2  436270-829280-76600-56969-312634-1037858-238-5...   \n",
       "3  1033456-1011679-505642-1058949-100088-536554-1...   \n",
       "4  82856-100088-906221-18123-10431-1077280-587092...   \n",
       "\n",
       "                                                cast  \\\n",
       "0  ['davebautista', 'jonathangroff', 'benaldridge...   \n",
       "1  ['gerardbutler', 'mikecolter', 'yosonan', 'ton...   \n",
       "2  ['letitiawright', \"lupitanyong'o\", 'danaigurir...   \n",
       "3  ['antoniobanderas', 'salmahayek', 'harveyguill...   \n",
       "4  ['tomhanks', 'marianatreviño', 'rachelkeller',...   \n",
       "\n",
       "                                                soup  \n",
       "0  basedonnovelorbook sacrifice cabin faith endof...  \n",
       "1  pilot airplane philippines heldhostage planecr...  \n",
       "2  lossoflovedone hero sequel superhero basedonco...  \n",
       "3  fairytale talkingdog spinoff aftercreditssting...  \n",
       "4  basedonnovelorbook suicideattempt remake misca...  "
      ]
     },
     "execution_count": 3,
     "metadata": {},
     "output_type": "execute_result"
    }
   ],
   "source": [
    "movies.head()"
   ]
  },
  {
   "cell_type": "code",
   "execution_count": 4,
   "id": "f7b262b2",
   "metadata": {},
   "outputs": [],
   "source": [
    "titles = movies['title']\n",
    "indices = pd.Series(movies.index, index=movies['title'])"
   ]
  },
  {
   "cell_type": "code",
   "execution_count": 5,
   "id": "1a95fc2c",
   "metadata": {},
   "outputs": [],
   "source": [
    "def get_recommendations(title, mat):\n",
    "    idx = indices[title]\n",
    "    sim_scores = list(enumerate(mat[idx]))\n",
    "    sim_scores = sorted(sim_scores, key=lambda x: x[1], reverse=True)\n",
    "    sim_scores = sim_scores[1:31]\n",
    "    movie_indices = [i[0] for i in sim_scores]\n",
    "    movie_scores = [i[1] for i in sim_scores]\n",
    "    return [[titles.iloc[movie_indices[i]],movie_scores[i]] for i in range(len(movie_scores))]"
   ]
  },
  {
   "cell_type": "code",
   "execution_count": 6,
   "id": "916b1584",
   "metadata": {},
   "outputs": [],
   "source": [
    "def tfidf_cosine(df,col):\n",
    "    tf = TfidfVectorizer(analyzer='word',ngram_range=(1, 2),min_df=0, stop_words='english')\n",
    "    tfidf_matrix = tf.fit_transform(df[col])\n",
    "    tfidf_matrix = tfidf_matrix.astype(\"float32\")\n",
    "    return linear_kernel(tfidf_matrix, tfidf_matrix)"
   ]
  },
  {
   "cell_type": "code",
   "execution_count": 7,
   "id": "5ecf2260",
   "metadata": {},
   "outputs": [],
   "source": [
    "cosine_sim = tfidf_cosine(movies,\"overview\")"
   ]
  },
  {
   "cell_type": "code",
   "execution_count": 8,
   "id": "c265b3c0",
   "metadata": {},
   "outputs": [
    {
     "data": {
      "text/plain": [
       "[['Batman: The Long Halloween, Part One', 0.204439],\n",
       " ['Batman: The Long Halloween, Part Two', 0.1727246],\n",
       " ['The Dark Knight Rises', 0.16054228],\n",
       " ['Batman vs. Two-Face', 0.13137831],\n",
       " ['Batman: Gotham by Gaslight', 0.08755989],\n",
       " ['Batman', 0.08454768],\n",
       " ['Batman Forever', 0.08326309],\n",
       " ['Batman: Year One', 0.075660706],\n",
       " ['Batman: The Killing Joke', 0.06896779],\n",
       " ['JFK', 0.066365875]]"
      ]
     },
     "execution_count": 8,
     "metadata": {},
     "output_type": "execute_result"
    }
   ],
   "source": [
    "get_recommendations(\"The Dark Knight\", cosine_sim)[:10]"
   ]
  },
  {
   "cell_type": "code",
   "execution_count": 9,
   "id": "3e8293f3",
   "metadata": {},
   "outputs": [],
   "source": [
    "pop = pd.read_csv(\"popularity.csv\")"
   ]
  },
  {
   "cell_type": "code",
   "execution_count": 10,
   "id": "020544b9",
   "metadata": {
    "scrolled": false
   },
   "outputs": [
    {
     "data": {
      "text/plain": [
       "dtype('float64')"
      ]
     },
     "execution_count": 10,
     "metadata": {},
     "output_type": "execute_result"
    }
   ],
   "source": [
    "pop[\"0\"].dtype"
   ]
  },
  {
   "cell_type": "markdown",
   "id": "5bc2429f",
   "metadata": {},
   "source": [
    "### recommender function that filters out movies that arent really popular , where popularity is based off of a metric by tmdb"
   ]
  },
  {
   "cell_type": "code",
   "execution_count": 11,
   "id": "1eccf073",
   "metadata": {},
   "outputs": [],
   "source": [
    "def also_get_recommendations(title, mat):\n",
    "    idx = indices[title]\n",
    "    sim_scores = list(enumerate(mat[idx]))\n",
    "    sim_scores = sorted(sim_scores, key=lambda x: x[1], reverse=True)\n",
    "    sim_scores = sim_scores[1:26]\n",
    "    movie_indices = [i[0] for i in sim_scores]\n",
    "    \n",
    "    recs = movies.iloc[movie_indices]\n",
    "    threshold = pop[\"0\"].quantile(0.60)\n",
    "    \n",
    "    index, qualified_titles, qualified_popularity = recs[(recs[\"popularity\"] >= threshold)].index, recs[(recs[\"popularity\"] >= threshold)][\"title\"],\\\n",
    "    recs[(recs[\"popularity\"] >= threshold)][\"popularity\"]\n",
    "    \n",
    "    sim_scores = [sim_scores[i][1] for i in range(len(movie_indices)) if movie_indices[i] in index]\n",
    "    \n",
    "    return [[qualified_titles[index[i]],qualified_popularity[index[i]],sim_scores[i]] for i in range(len(index))]"
   ]
  },
  {
   "cell_type": "code",
   "execution_count": 16,
   "id": "ac15d8dd",
   "metadata": {},
   "outputs": [],
   "source": [
    "def count_cosine(df,col):\n",
    "    count = CountVectorizer(analyzer='word',ngram_range=(1, 2),min_df=0, stop_words='english')\n",
    "    count_matrix = count.fit_transform(df[col])\n",
    "    count_matrix = count_matrix.astype(\"float32\")\n",
    "    count_cosine_sim = cosine_similarity(count_matrix, count_matrix)\n",
    "    \n",
    "    return count_cosine_sim"
   ]
  },
  {
   "cell_type": "code",
   "execution_count": 17,
   "id": "dc3934ca",
   "metadata": {},
   "outputs": [],
   "source": [
    "countCosineSim = count_cosine(movies,\"soup\")"
   ]
  },
  {
   "cell_type": "markdown",
   "id": "3b8bc0de",
   "metadata": {},
   "source": [
    "# IMO, the \"soup\" gave better recommendations, and hence will be using it for the recommendation system"
   ]
  },
  {
   "cell_type": "code",
   "execution_count": 23,
   "id": "3bd6a3b4",
   "metadata": {
    "scrolled": false
   },
   "outputs": [
    {
     "data": {
      "text/plain": [
       "[['Justice League Dark', 19.204, 0.06272659],\n",
       " ['The Batman', 344.174, 0.0626558],\n",
       " ['Batman: The Long Halloween, Part Two', 23.778, 0.061375033],\n",
       " ['Batman: The Long Halloween, Part One', 30.35, 0.058979005],\n",
       " ['Kick-Ass', 40.013, 0.05808579],\n",
       " ['Batman & Robin', 31.212, 0.05754663],\n",
       " ['Batman: The Dark Knight Returns, Part 1', 32.236, 0.055963345],\n",
       " ['Teen Titans Go! & DC Super Hero Girls: Mayhem in the Multiverse',\n",
       "  60.818,\n",
       "  0.054138884],\n",
       " ['Tall Girl 2', 24.198, 0.053409003],\n",
       " ['The Dark Knight Rises', 77.329, 0.052511446],\n",
       " ['Batman: Bad Blood', 22.861, 0.051870927],\n",
       " ['Guardians', 45.784, 0.05149076],\n",
       " ['Batman: Under the Red Hood', 28.391, 0.048209745],\n",
       " ['Brightburn', 32.469, 0.046482407],\n",
       " ['Batman Begins', 53.942, 0.04459291],\n",
       " ['Spider-Man: No Way Home', 415.473, 0.043833543]]"
      ]
     },
     "execution_count": 23,
     "metadata": {},
     "output_type": "execute_result"
    }
   ],
   "source": [
    "also_get_recommendations(\"Batman v Superman: Dawn of Justice\",cosine_sim)"
   ]
  },
  {
   "cell_type": "code",
   "execution_count": 25,
   "id": "8745c4b8",
   "metadata": {
    "scrolled": true
   },
   "outputs": [
    {
     "data": {
      "text/plain": [
       "[['2010', 20.684, 0.29926604],\n",
       " ['Star Trek: The Motion Picture', 24.222, 0.20718417],\n",
       " ['Beneath the Planet of the Apes', 20.202, 0.19603921],\n",
       " ['Life', 26.886, 0.16568336],\n",
       " ['Star Wars: The Rise of Skywalker', 66.772, 0.16062313],\n",
       " ['Kill Command', 26.167, 0.156957],\n",
       " ['Allegiant', 28.211, 0.1560153],\n",
       " ['Gravity', 27.466, 0.1560153],\n",
       " ['The Matrix Resurrections', 122.226, 0.1494785],\n",
       " [\"The Hitchhiker's Guide to the Galaxy\", 23.006, 0.14611901],\n",
       " ['Transcendence', 19.617, 0.14611901],\n",
       " ['Barbarella', 24.049, 0.1459893],\n",
       " ['Planet of the Apes', 29.877, 0.1429763],\n",
       " ['Sunshine', 21.125, 0.14201431]]"
      ]
     },
     "execution_count": 25,
     "metadata": {},
     "output_type": "execute_result"
    }
   ],
   "source": [
    "also_get_recommendations(\"2001: A Space Odyssey\", countCosineSim)"
   ]
  }
 ],
 "metadata": {
  "kernelspec": {
   "display_name": "Python 3 (ipykernel)",
   "language": "python",
   "name": "python3"
  },
  "language_info": {
   "codemirror_mode": {
    "name": "ipython",
    "version": 3
   },
   "file_extension": ".py",
   "mimetype": "text/x-python",
   "name": "python",
   "nbconvert_exporter": "python",
   "pygments_lexer": "ipython3",
   "version": "3.9.12"
  }
 },
 "nbformat": 4,
 "nbformat_minor": 5
}
