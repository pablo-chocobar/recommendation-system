{
 "cells": [
  {
   "cell_type": "markdown",
   "id": "86bac897",
   "metadata": {},
   "source": [
    "## used this notebook mainly for cleaning and reducing the amount of data i had to use"
   ]
  },
  {
   "cell_type": "code",
   "execution_count": 1,
   "id": "adad8636",
   "metadata": {},
   "outputs": [],
   "source": [
    "import pandas as pd\n",
    "import numpy as np\n",
    "from scipy import stats\n",
    "from sklearn.feature_extraction.text import TfidfVectorizer, CountVectorizer\n",
    "from sklearn.metrics.pairwise import linear_kernel, cosine_similarity\n",
    "\n",
    "import warnings; warnings.simplefilter('ignore')"
   ]
  },
  {
   "cell_type": "code",
   "execution_count": 2,
   "id": "dd653836",
   "metadata": {},
   "outputs": [],
   "source": [
    "df = pd.read_csv(\"movies.csv\")"
   ]
  },
  {
   "cell_type": "code",
   "execution_count": 3,
   "id": "0c2e073f",
   "metadata": {},
   "outputs": [],
   "source": [
    "df = df.drop([\"release_date\", \"budget\", \"revenue\", \"runtime\", \"status\", \"tagline\", \"backdrop_path\"], axis=1)"
   ]
  },
  {
   "cell_type": "code",
   "execution_count": 4,
   "id": "af02c29c",
   "metadata": {},
   "outputs": [],
   "source": [
    "df = df.drop(df.loc[df['genres'].isin([\"Documentary\"])].index)\n",
    "df = df.dropna(subset=[\"production_companies\", \"genres\", \"credits\", \"keywords\", \"overview\", \"recommendations\"])"
   ]
  },
  {
   "cell_type": "code",
   "execution_count": 5,
   "id": "aae73b8b",
   "metadata": {},
   "outputs": [
    {
     "data": {
      "text/html": [
       "<div>\n",
       "<style scoped>\n",
       "    .dataframe tbody tr th:only-of-type {\n",
       "        vertical-align: middle;\n",
       "    }\n",
       "\n",
       "    .dataframe tbody tr th {\n",
       "        vertical-align: top;\n",
       "    }\n",
       "\n",
       "    .dataframe thead th {\n",
       "        text-align: right;\n",
       "    }\n",
       "</style>\n",
       "<table border=\"1\" class=\"dataframe\">\n",
       "  <thead>\n",
       "    <tr style=\"text-align: right;\">\n",
       "      <th></th>\n",
       "      <th>id</th>\n",
       "      <th>title</th>\n",
       "      <th>genres</th>\n",
       "      <th>original_language</th>\n",
       "      <th>overview</th>\n",
       "      <th>popularity</th>\n",
       "      <th>production_companies</th>\n",
       "      <th>vote_average</th>\n",
       "      <th>vote_count</th>\n",
       "      <th>credits</th>\n",
       "      <th>keywords</th>\n",
       "      <th>poster_path</th>\n",
       "      <th>recommendations</th>\n",
       "    </tr>\n",
       "  </thead>\n",
       "  <tbody>\n",
       "    <tr>\n",
       "      <th>0</th>\n",
       "      <td>631842</td>\n",
       "      <td>Knock at the Cabin</td>\n",
       "      <td>Horror-Mystery-Thriller</td>\n",
       "      <td>en</td>\n",
       "      <td>While vacationing at a remote cabin a young gi...</td>\n",
       "      <td>3422.537</td>\n",
       "      <td>Blinding Edge Pictures-Universal Pictures-Film...</td>\n",
       "      <td>6.457</td>\n",
       "      <td>888.0</td>\n",
       "      <td>Dave Bautista-Jonathan Groff-Ben Aldridge-Kris...</td>\n",
       "      <td>based on novel or book-sacrifice-cabin-faith-e...</td>\n",
       "      <td>/dm06L9pxDOL9jNSK4Cb6y139rrG.jpg</td>\n",
       "      <td>1058949-646389-772515-505642-143970-667216-104...</td>\n",
       "    </tr>\n",
       "    <tr>\n",
       "      <th>1</th>\n",
       "      <td>646389</td>\n",
       "      <td>Plane</td>\n",
       "      <td>Action-Adventure-Thriller</td>\n",
       "      <td>en</td>\n",
       "      <td>After a heroic job of successfully landing his...</td>\n",
       "      <td>2618.646</td>\n",
       "      <td>MadRiver Pictures-Di Bonaventura Pictures-G-BA...</td>\n",
       "      <td>6.901</td>\n",
       "      <td>785.0</td>\n",
       "      <td>Gerard Butler-Mike Colter-Yoson An-Tony Goldwy...</td>\n",
       "      <td>pilot-airplane-philippines-held hostage-plane ...</td>\n",
       "      <td>/qi9r5xBgcc9KTxlOLjssEbDgO0J.jpg</td>\n",
       "      <td>505642-758769-864692-631842-1058949-925943-758...</td>\n",
       "    </tr>\n",
       "    <tr>\n",
       "      <th>2</th>\n",
       "      <td>505642</td>\n",
       "      <td>Black Panther: Wakanda Forever</td>\n",
       "      <td>Action-Adventure-Science Fiction</td>\n",
       "      <td>en</td>\n",
       "      <td>Queen Ramonda Shuri M’Baku Okoye and the Dora ...</td>\n",
       "      <td>2525.408</td>\n",
       "      <td>Marvel Studios</td>\n",
       "      <td>7.338</td>\n",
       "      <td>3922.0</td>\n",
       "      <td>Letitia Wright-Lupita Nyong'o-Danai Gurira-Win...</td>\n",
       "      <td>loss of loved one-hero-sequel-superhero-based ...</td>\n",
       "      <td>/sv1xJUazXeYqALzczSZ3O6nkH75.jpg</td>\n",
       "      <td>436270-829280-76600-56969-312634-1037858-238-5...</td>\n",
       "    </tr>\n",
       "    <tr>\n",
       "      <th>4</th>\n",
       "      <td>315162</td>\n",
       "      <td>Puss in Boots: The Last Wish</td>\n",
       "      <td>Animation-Adventure-Comedy-Family</td>\n",
       "      <td>en</td>\n",
       "      <td>Puss in Boots discovers that his passion for a...</td>\n",
       "      <td>2078.280</td>\n",
       "      <td>DreamWorks Animation-Universal Pictures</td>\n",
       "      <td>8.363</td>\n",
       "      <td>4671.0</td>\n",
       "      <td>Antonio Banderas-Salma Hayek-Harvey Guillén-Wa...</td>\n",
       "      <td>fairy tale-talking dog-spin off-aftercreditsst...</td>\n",
       "      <td>/kuf6dutpsT0vSVehic3EZIqkOBt.jpg</td>\n",
       "      <td>1033456-1011679-505642-1058949-100088-536554-1...</td>\n",
       "    </tr>\n",
       "    <tr>\n",
       "      <th>7</th>\n",
       "      <td>937278</td>\n",
       "      <td>A Man Called Otto</td>\n",
       "      <td>Comedy-Drama</td>\n",
       "      <td>en</td>\n",
       "      <td>When a lively young family moves in next door ...</td>\n",
       "      <td>1545.382</td>\n",
       "      <td>Playtone-SF Studios-2DUX²-Stage 6 Films-Artist...</td>\n",
       "      <td>7.811</td>\n",
       "      <td>540.0</td>\n",
       "      <td>Tom Hanks-Mariana Treviño-Rachel Keller-Manuel...</td>\n",
       "      <td>based on novel or book-suicide attempt-remake-...</td>\n",
       "      <td>/130H1gap9lFfiTF9iDrqNIkFvC9.jpg</td>\n",
       "      <td>82856-100088-906221-18123-10431-1077280-587092...</td>\n",
       "    </tr>\n",
       "  </tbody>\n",
       "</table>\n",
       "</div>"
      ],
      "text/plain": [
       "       id                           title                             genres  \\\n",
       "0  631842              Knock at the Cabin            Horror-Mystery-Thriller   \n",
       "1  646389                           Plane          Action-Adventure-Thriller   \n",
       "2  505642  Black Panther: Wakanda Forever   Action-Adventure-Science Fiction   \n",
       "4  315162    Puss in Boots: The Last Wish  Animation-Adventure-Comedy-Family   \n",
       "7  937278               A Man Called Otto                       Comedy-Drama   \n",
       "\n",
       "  original_language                                           overview  \\\n",
       "0                en  While vacationing at a remote cabin a young gi...   \n",
       "1                en  After a heroic job of successfully landing his...   \n",
       "2                en  Queen Ramonda Shuri M’Baku Okoye and the Dora ...   \n",
       "4                en  Puss in Boots discovers that his passion for a...   \n",
       "7                en  When a lively young family moves in next door ...   \n",
       "\n",
       "   popularity                               production_companies  \\\n",
       "0    3422.537  Blinding Edge Pictures-Universal Pictures-Film...   \n",
       "1    2618.646  MadRiver Pictures-Di Bonaventura Pictures-G-BA...   \n",
       "2    2525.408                                     Marvel Studios   \n",
       "4    2078.280            DreamWorks Animation-Universal Pictures   \n",
       "7    1545.382  Playtone-SF Studios-2DUX²-Stage 6 Films-Artist...   \n",
       "\n",
       "   vote_average  vote_count  \\\n",
       "0         6.457       888.0   \n",
       "1         6.901       785.0   \n",
       "2         7.338      3922.0   \n",
       "4         8.363      4671.0   \n",
       "7         7.811       540.0   \n",
       "\n",
       "                                             credits  \\\n",
       "0  Dave Bautista-Jonathan Groff-Ben Aldridge-Kris...   \n",
       "1  Gerard Butler-Mike Colter-Yoson An-Tony Goldwy...   \n",
       "2  Letitia Wright-Lupita Nyong'o-Danai Gurira-Win...   \n",
       "4  Antonio Banderas-Salma Hayek-Harvey Guillén-Wa...   \n",
       "7  Tom Hanks-Mariana Treviño-Rachel Keller-Manuel...   \n",
       "\n",
       "                                            keywords  \\\n",
       "0  based on novel or book-sacrifice-cabin-faith-e...   \n",
       "1  pilot-airplane-philippines-held hostage-plane ...   \n",
       "2  loss of loved one-hero-sequel-superhero-based ...   \n",
       "4  fairy tale-talking dog-spin off-aftercreditsst...   \n",
       "7  based on novel or book-suicide attempt-remake-...   \n",
       "\n",
       "                        poster_path  \\\n",
       "0  /dm06L9pxDOL9jNSK4Cb6y139rrG.jpg   \n",
       "1  /qi9r5xBgcc9KTxlOLjssEbDgO0J.jpg   \n",
       "2  /sv1xJUazXeYqALzczSZ3O6nkH75.jpg   \n",
       "4  /kuf6dutpsT0vSVehic3EZIqkOBt.jpg   \n",
       "7  /130H1gap9lFfiTF9iDrqNIkFvC9.jpg   \n",
       "\n",
       "                                     recommendations  \n",
       "0  1058949-646389-772515-505642-143970-667216-104...  \n",
       "1  505642-758769-864692-631842-1058949-925943-758...  \n",
       "2  436270-829280-76600-56969-312634-1037858-238-5...  \n",
       "4  1033456-1011679-505642-1058949-100088-536554-1...  \n",
       "7  82856-100088-906221-18123-10431-1077280-587092...  "
      ]
     },
     "execution_count": 5,
     "metadata": {},
     "output_type": "execute_result"
    }
   ],
   "source": [
    "df.head()"
   ]
  },
  {
   "cell_type": "code",
   "execution_count": 6,
   "id": "af853736",
   "metadata": {},
   "outputs": [
    {
     "data": {
      "text/plain": [
       "id                       0\n",
       "title                    0\n",
       "genres                   0\n",
       "original_language        0\n",
       "overview                 0\n",
       "popularity               0\n",
       "production_companies     0\n",
       "vote_average             0\n",
       "vote_count               0\n",
       "credits                  0\n",
       "keywords                 0\n",
       "poster_path             40\n",
       "recommendations          0\n",
       "dtype: int64"
      ]
     },
     "execution_count": 6,
     "metadata": {},
     "output_type": "execute_result"
    }
   ],
   "source": [
    "df.isnull().sum()"
   ]
  },
  {
   "cell_type": "code",
   "execution_count": 7,
   "id": "d2554688",
   "metadata": {},
   "outputs": [
    {
     "data": {
      "text/plain": [
       "22770"
      ]
     },
     "execution_count": 7,
     "metadata": {},
     "output_type": "execute_result"
    }
   ],
   "source": [
    "len(df)"
   ]
  },
  {
   "cell_type": "code",
   "execution_count": 8,
   "id": "94646bdd",
   "metadata": {},
   "outputs": [],
   "source": [
    "len(df[df[\"popularity\"] > df[\"popularity\"].median()])\n",
    "df = df[df[\"popularity\"] > df[\"popularity\"].median()]"
   ]
  },
  {
   "cell_type": "markdown",
   "id": "e0ef2785",
   "metadata": {},
   "source": [
    "## writing pre-processed DataFrame to csv "
   ]
  },
  {
   "cell_type": "code",
   "execution_count": 9,
   "id": "29038ab2",
   "metadata": {},
   "outputs": [],
   "source": [
    "df.to_csv(\"re-movies.csv\")"
   ]
  },
  {
   "cell_type": "markdown",
   "id": "e1fbc553",
   "metadata": {},
   "source": [
    "## calculating pair-wise cosine similarity between overviews of movies"
   ]
  },
  {
   "cell_type": "code",
   "execution_count": 10,
   "id": "10104f1d",
   "metadata": {},
   "outputs": [],
   "source": [
    "tf = TfidfVectorizer(analyzer='word',ngram_range=(1, 2),min_df=0, stop_words='english')\n",
    "tfidf_matrix = tf.fit_transform(df['overview'])"
   ]
  },
  {
   "cell_type": "code",
   "execution_count": 11,
   "id": "9d775a3d",
   "metadata": {},
   "outputs": [
    {
     "data": {
      "text/plain": [
       "(11384, 263862)"
      ]
     },
     "execution_count": 11,
     "metadata": {},
     "output_type": "execute_result"
    }
   ],
   "source": [
    "tfidf_matrix.shape"
   ]
  },
  {
   "cell_type": "code",
   "execution_count": 12,
   "id": "b1a53df8",
   "metadata": {},
   "outputs": [
    {
     "name": "stdout",
     "output_type": "stream",
     "text": [
      "float64\n",
      "float32\n"
     ]
    }
   ],
   "source": [
    "print(tfidf_matrix.dtype)\n",
    "tfidf_matrix = tfidf_matrix.astype(\"float32\")\n",
    "print(tfidf_matrix.dtype)"
   ]
  },
  {
   "cell_type": "code",
   "execution_count": 13,
   "id": "14c03401",
   "metadata": {},
   "outputs": [],
   "source": [
    "cosine_sim = linear_kernel(tfidf_matrix, tfidf_matrix)"
   ]
  },
  {
   "cell_type": "code",
   "execution_count": 14,
   "id": "7f2cea25",
   "metadata": {},
   "outputs": [
    {
     "data": {
      "text/plain": [
       "(11384, 11384)"
      ]
     },
     "execution_count": 14,
     "metadata": {},
     "output_type": "execute_result"
    }
   ],
   "source": [
    "cosine_sim.shape"
   ]
  },
  {
   "cell_type": "code",
   "execution_count": 15,
   "id": "5772c5ea",
   "metadata": {},
   "outputs": [],
   "source": [
    "newdf = df.reset_index()\n",
    "titles = newdf['title']\n",
    "indices = pd.Series(newdf.index, index=newdf['title'])"
   ]
  },
  {
   "cell_type": "markdown",
   "id": "d4a7190f",
   "metadata": {},
   "source": [
    "#### this cell is just to test if  writing cosine similarities to a csv so that i could read it later and get it was faster than calculating when the Flask server initialises. But pandas just takes too much time to read the file, so dropped the idea"
   ]
  },
  {
   "cell_type": "code",
   "execution_count": 16,
   "id": "9434b938",
   "metadata": {},
   "outputs": [],
   "source": [
    "# cos_sim_df = pd.DataFrame(cosine_sim, index=newdf[\"title\"], columns=newdf[\"title\"])\n",
    "# cos_sim_df.to_csv(\"overview_similarities.csv\")"
   ]
  },
  {
   "cell_type": "code",
   "execution_count": 17,
   "id": "a1e565c3",
   "metadata": {},
   "outputs": [],
   "source": [
    "def get_recommendations(title):\n",
    "    idx = indices[title]\n",
    "    sim_scores = list(enumerate(cosine_sim[idx]))\n",
    "    sim_scores = sorted(sim_scores, key=lambda x: x[1], reverse=True)\n",
    "    sim_scores = sim_scores[1:31]\n",
    "    movie_indices = [i[0] for i in sim_scores]\n",
    "    movie_scores = [i[1] for i in sim_scores]\n",
    "    return [[titles.iloc[movie_indices[i]],movie_scores[i]] for i in range(len(movie_scores))]"
   ]
  },
  {
   "cell_type": "code",
   "execution_count": 18,
   "id": "dd91ad44",
   "metadata": {
    "scrolled": true
   },
   "outputs": [
    {
     "data": {
      "text/plain": [
       "[['Shrek 2', 0.10541846],\n",
       " [\"Shrek's Thrilling Tales\", 0.08867023],\n",
       " ['Shrek the Musical', 0.08815835],\n",
       " ['Shrek in the Swamp Karaoke Dance Party', 0.080541484],\n",
       " ['The Ghost of Lord Farquaad', 0.0796093],\n",
       " ['Shrek the Third', 0.0725713],\n",
       " ['Scared Shrekless', 0.057920665],\n",
       " ['Shanghai Noon', 0.051971093],\n",
       " ['Dreamworks Holiday Classics', 0.051124997],\n",
       " ['Shrek Forever After', 0.049867496]]"
      ]
     },
     "execution_count": 18,
     "metadata": {},
     "output_type": "execute_result"
    }
   ],
   "source": [
    "get_recommendations('Shrek')[:10]"
   ]
  },
  {
   "cell_type": "markdown",
   "id": "4c21f791",
   "metadata": {},
   "source": [
    "## making a \"soup\" out of genres, cast and keywords to get similar movies\n"
   ]
  },
  {
   "cell_type": "code",
   "execution_count": 19,
   "id": "ac2d6464",
   "metadata": {
    "scrolled": false
   },
   "outputs": [
    {
     "data": {
      "text/plain": [
       "['Christian Bale',\n",
       " 'Heath Ledger',\n",
       " 'Michael Caine',\n",
       " 'Gary Oldman',\n",
       " 'Aaron Eckhart']"
      ]
     },
     "execution_count": 19,
     "metadata": {},
     "output_type": "execute_result"
    }
   ],
   "source": [
    "x = df[df[\"title\"] == \"The Dark Knight\"][\"credits\"].str.split(\"-\")\n",
    "list(x)[0][:5]"
   ]
  },
  {
   "cell_type": "code",
   "execution_count": 20,
   "id": "d6438bb3",
   "metadata": {},
   "outputs": [],
   "source": [
    "df['cast'] = df['credits'].apply(lambda x: list(x.split(\"-\")) )\n",
    "df['cast'] = df['cast'].apply(lambda x: x[:5] if len(x) >=5 else x)"
   ]
  },
  {
   "cell_type": "code",
   "execution_count": 21,
   "id": "1c2f4e2a",
   "metadata": {},
   "outputs": [],
   "source": [
    "df['cast'] = df['cast'].apply(lambda x: [str.lower(i.replace(\" \", \"\")) for i in x])"
   ]
  },
  {
   "cell_type": "code",
   "execution_count": 22,
   "id": "9fc0a462",
   "metadata": {},
   "outputs": [],
   "source": [
    "df[\"keywords\"] = df[\"keywords\"].apply(lambda x: list(x.split(\"-\")))"
   ]
  },
  {
   "cell_type": "code",
   "execution_count": 23,
   "id": "2d8fa1f0",
   "metadata": {
    "scrolled": true
   },
   "outputs": [],
   "source": [
    "s = df.apply(lambda x: pd.Series(x[\"keywords\"]),axis=1).stack().reset_index(level=1, drop=True)\n",
    "s = s.value_counts()\n",
    "s = s[s > 1]"
   ]
  },
  {
   "cell_type": "code",
   "execution_count": 24,
   "id": "cb0377a6",
   "metadata": {},
   "outputs": [],
   "source": [
    "def filterKeywords(x):\n",
    "    return [i for i in x if i in s]"
   ]
  },
  {
   "cell_type": "code",
   "execution_count": 25,
   "id": "19d7719a",
   "metadata": {},
   "outputs": [
    {
     "data": {
      "text/plain": [
       "['murder', 'woman director']"
      ]
     },
     "execution_count": 25,
     "metadata": {},
     "output_type": "execute_result"
    }
   ],
   "source": [
    "filterKeywords([\"murder\", \"splash\", \"woman director\", \"pranav\"])"
   ]
  },
  {
   "cell_type": "code",
   "execution_count": 26,
   "id": "63bdafb8",
   "metadata": {},
   "outputs": [],
   "source": [
    "df['keywords'] = df['keywords'].apply(filterKeywords)\n",
    "df['keywords'] = df['keywords'].apply(lambda x: [str.lower(i.replace(\" \", \"\")) for i in x])"
   ]
  },
  {
   "cell_type": "code",
   "execution_count": 27,
   "id": "00ba8ae5",
   "metadata": {},
   "outputs": [],
   "source": [
    "df[\"genres\"] = df[\"genres\"].apply(lambda x: list(x.split(\"-\")) )\n"
   ]
  },
  {
   "cell_type": "code",
   "execution_count": 28,
   "id": "23397aec",
   "metadata": {},
   "outputs": [],
   "source": [
    "df[\"soup\"] = df['keywords'] + df['cast'] + df['genres']\n",
    "df[\"soup\"] = df[\"soup\"].apply(lambda x: ' '.join(x))"
   ]
  },
  {
   "cell_type": "code",
   "execution_count": 29,
   "id": "df5d9324",
   "metadata": {
    "scrolled": true
   },
   "outputs": [
    {
     "data": {
      "text/plain": [
       "0        basedonnovelorbook sacrifice cabin faith endof...\n",
       "1        pilot airplane philippines heldhostage planecr...\n",
       "2        lossoflovedone hero sequel superhero basedonco...\n",
       "4        fairytale talkingdog spinoff aftercreditssting...\n",
       "7        basedonnovelorbook suicideattempt remake misca...\n",
       "                               ...                        \n",
       "16768    martialarts vampire vampirehunter(slayer) pete...\n",
       "16770    japan samurai mutant worldwari superhero based...\n",
       "16772    baseball sports johnnysimmons ethanhawke paulg...\n",
       "16777    musical violinist davidgarrett joelyrichardson...\n",
       "16778    writing popstar musician superbowl ladygaga bo...\n",
       "Name: soup, Length: 11384, dtype: object"
      ]
     },
     "execution_count": 29,
     "metadata": {},
     "output_type": "execute_result"
    }
   ],
   "source": [
    "df[\"soup\"]"
   ]
  },
  {
   "cell_type": "code",
   "execution_count": 41,
   "id": "93b4a08e",
   "metadata": {},
   "outputs": [],
   "source": [
    "df.to_csv(\"re-movies.csv\")"
   ]
  },
  {
   "cell_type": "code",
   "execution_count": 30,
   "id": "6eec917d",
   "metadata": {},
   "outputs": [],
   "source": [
    "count = CountVectorizer(analyzer='word',ngram_range=(1, 2),min_df=0, stop_words='english')\n",
    "count_matrix = count.fit_transform(df['soup'])"
   ]
  },
  {
   "cell_type": "code",
   "execution_count": 31,
   "id": "3b3c3147",
   "metadata": {},
   "outputs": [],
   "source": [
    "def get_recommendations(title, cosine):\n",
    "    idx = indices[title]\n",
    "    sim_scores = list(enumerate(cosine[idx]))\n",
    "    sim_scores = sorted(sim_scores, key=lambda x: x[1], reverse=True)\n",
    "    sim_scores = sim_scores[1:31]\n",
    "    movie_indices = [i[0] for i in sim_scores]\n",
    "    movie_scores = [i[1] for i in sim_scores]\n",
    "    return [[titles.iloc[movie_indices[i]],movie_scores[i]] for i in range(len(movie_scores))]"
   ]
  },
  {
   "cell_type": "code",
   "execution_count": 32,
   "id": "ce5258c5",
   "metadata": {},
   "outputs": [],
   "source": [
    "count_cosine_sim = cosine_similarity(count_matrix, count_matrix)"
   ]
  },
  {
   "cell_type": "code",
   "execution_count": 33,
   "id": "3c273d28",
   "metadata": {},
   "outputs": [],
   "source": [
    "df = df.reset_index()\n",
    "titles = df['title']\n",
    "indices = pd.Series(df.index, index=df['title'])"
   ]
  },
  {
   "cell_type": "code",
   "execution_count": 34,
   "id": "bdceb11e",
   "metadata": {},
   "outputs": [],
   "source": [
    "# cos_sim_df = pd.DataFrame(cosine_sim, index=titles, columns=titles)\n",
    "# cos_sim_df.to_csv(\"soup_similarities.csv\")"
   ]
  },
  {
   "cell_type": "code",
   "execution_count": 35,
   "id": "70d83ea1",
   "metadata": {
    "scrolled": false
   },
   "outputs": [
    {
     "data": {
      "text/plain": [
       "[['Batman Begins', 0.3082056514117678],\n",
       " ['The Dark Knight Rises', 0.29090909090909095],\n",
       " ['Batman: Mask of the Phantasm', 0.2878806424034328],\n",
       " ['The Batman', 0.23636363636363641],\n",
       " ['Batman & Mr. Freeze: SubZero', 0.23354968324845696],\n",
       " ['SPL: Kill Zone', 0.22492862284621332],\n",
       " ['Batman: Under the Red Hood', 0.21635274585338146],\n",
       " ['Kick-Ass 2', 0.20759971844307284],\n",
       " ['The Black Dahlia', 0.20759971844307284],\n",
       " ['Fear Over the City', 0.20031323433445378]]"
      ]
     },
     "execution_count": 35,
     "metadata": {},
     "output_type": "execute_result"
    }
   ],
   "source": [
    "get_recommendations('The Dark Knight', count_cosine_sim)[:10]"
   ]
  },
  {
   "cell_type": "code",
   "execution_count": 36,
   "id": "1139cda1",
   "metadata": {},
   "outputs": [],
   "source": [
    "popularity_df = pd.DataFrame(df[\"popularity\"].values, index=titles)\n",
    "popularity_df.to_csv(\"popularity.csv\")"
   ]
  },
  {
   "cell_type": "code",
   "execution_count": 39,
   "id": "a69bca98",
   "metadata": {},
   "outputs": [],
   "source": [
    "poster_df = pd.DataFrame(df[\"poster_path\"].values,index = titles)\n",
    "poster_df.to_csv(\"poster.csv\")"
   ]
  }
 ],
 "metadata": {
  "kernelspec": {
   "display_name": "Python 3 (ipykernel)",
   "language": "python",
   "name": "python3"
  },
  "language_info": {
   "codemirror_mode": {
    "name": "ipython",
    "version": 3
   },
   "file_extension": ".py",
   "mimetype": "text/x-python",
   "name": "python",
   "nbconvert_exporter": "python",
   "pygments_lexer": "ipython3",
   "version": "3.9.12"
  }
 },
 "nbformat": 4,
 "nbformat_minor": 5
}
